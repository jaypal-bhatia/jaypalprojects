{
 "cells": [
  {
   "cell_type": "code",
   "execution_count": 109,
   "metadata": {},
   "outputs": [],
   "source": [
    "import pandas as pd\n",
    "import matplotlib as plt"
   ]
  },
  {
   "cell_type": "markdown",
   "metadata": {},
   "source": [
    "## Commuter Trips"
   ]
  },
  {
   "cell_type": "markdown",
   "metadata": {},
   "source": [
    "Criteria for commuter trips included the following:\n",
    "1) Between Monday and Friday \n",
    "2) Between 7am and 9am or between 4pm and 6pm.\n",
    "3) Different start and end station\n"
   ]
  },
  {
   "cell_type": "code",
   "execution_count": 150,
   "metadata": {},
   "outputs": [
    {
     "name": "stderr",
     "output_type": "stream",
     "text": [
      "Query complete after 0.00s: 100%|██████████| 1/1 [00:00<00:00, 315.43query/s] \n",
      "Downloading: 100%|██████████| 5/5 [00:01<00:00,  4.59rows/s]\n"
     ]
    }
   ],
   "source": [
    "%%bigquery commute_trips\n",
    "\n",
    "SELECT start_station_name, end_station_name,\n",
    "COUNT(*) as frequency\n",
    "FROM `bigquery-public-data.san_francisco.bikeshare_trips`\n",
    "WHERE EXTRACT(DAYOFWEEK FROM start_date) NOT IN (1, 7) and (\n",
    "(EXTRACT(HOUR FROM start_date) >= 7 and EXTRACT(HOUR FROM start_date) <= 9) \n",
    "OR (EXTRACT(HOUR FROM start_date) >= 16 and EXTRACT(HOUR FROM start_date) <= 18))\n",
    "GROUP BY start_station_name, end_station_name \n",
    "ORDER BY frequency DESC\n",
    "LIMIT 5"
   ]
  },
  {
   "cell_type": "code",
   "execution_count": 155,
   "metadata": {},
   "outputs": [
    {
     "data": {
      "text/html": [
       "<div>\n",
       "<style scoped>\n",
       "    .dataframe tbody tr th:only-of-type {\n",
       "        vertical-align: middle;\n",
       "    }\n",
       "\n",
       "    .dataframe tbody tr th {\n",
       "        vertical-align: top;\n",
       "    }\n",
       "\n",
       "    .dataframe thead th {\n",
       "        text-align: right;\n",
       "    }\n",
       "</style>\n",
       "<table border=\"1\" class=\"dataframe\">\n",
       "  <thead>\n",
       "    <tr style=\"text-align: right;\">\n",
       "      <th></th>\n",
       "      <th>start_station_name</th>\n",
       "      <th>end_station_name</th>\n",
       "      <th>frequency</th>\n",
       "      <th>trip</th>\n",
       "    </tr>\n",
       "  </thead>\n",
       "  <tbody>\n",
       "    <tr>\n",
       "      <th>0</th>\n",
       "      <td>2nd at Townsend</td>\n",
       "      <td>Harry Bridges Plaza (Ferry Building)</td>\n",
       "      <td>5165</td>\n",
       "      <td>2nd at Townsend to Harry Bridges Plaza (Ferry ...</td>\n",
       "    </tr>\n",
       "    <tr>\n",
       "      <th>1</th>\n",
       "      <td>Harry Bridges Plaza (Ferry Building)</td>\n",
       "      <td>2nd at Townsend</td>\n",
       "      <td>5127</td>\n",
       "      <td>Harry Bridges Plaza (Ferry Building) to 2nd at...</td>\n",
       "    </tr>\n",
       "    <tr>\n",
       "      <th>2</th>\n",
       "      <td>San Francisco Caltrain 2 (330 Townsend)</td>\n",
       "      <td>Townsend at 7th</td>\n",
       "      <td>5040</td>\n",
       "      <td>San Francisco Caltrain 2 (330 Townsend) to Tow...</td>\n",
       "    </tr>\n",
       "    <tr>\n",
       "      <th>3</th>\n",
       "      <td>Embarcadero at Sansome</td>\n",
       "      <td>Steuart at Market</td>\n",
       "      <td>4904</td>\n",
       "      <td>Embarcadero at Sansome to Steuart at Market</td>\n",
       "    </tr>\n",
       "    <tr>\n",
       "      <th>4</th>\n",
       "      <td>Embarcadero at Folsom</td>\n",
       "      <td>San Francisco Caltrain (Townsend at 4th)</td>\n",
       "      <td>4756</td>\n",
       "      <td>Embarcadero at Folsom to San Francisco Caltrai...</td>\n",
       "    </tr>\n",
       "  </tbody>\n",
       "</table>\n",
       "</div>"
      ],
      "text/plain": [
       "                        start_station_name  \\\n",
       "0                          2nd at Townsend   \n",
       "1     Harry Bridges Plaza (Ferry Building)   \n",
       "2  San Francisco Caltrain 2 (330 Townsend)   \n",
       "3                   Embarcadero at Sansome   \n",
       "4                    Embarcadero at Folsom   \n",
       "\n",
       "                           end_station_name  frequency  \\\n",
       "0      Harry Bridges Plaza (Ferry Building)       5165   \n",
       "1                           2nd at Townsend       5127   \n",
       "2                           Townsend at 7th       5040   \n",
       "3                         Steuart at Market       4904   \n",
       "4  San Francisco Caltrain (Townsend at 4th)       4756   \n",
       "\n",
       "                                                trip  \n",
       "0  2nd at Townsend to Harry Bridges Plaza (Ferry ...  \n",
       "1  Harry Bridges Plaza (Ferry Building) to 2nd at...  \n",
       "2  San Francisco Caltrain 2 (330 Townsend) to Tow...  \n",
       "3        Embarcadero at Sansome to Steuart at Market  \n",
       "4  Embarcadero at Folsom to San Francisco Caltrai...  "
      ]
     },
     "execution_count": 155,
     "metadata": {},
     "output_type": "execute_result"
    }
   ],
   "source": [
    "commute_trips['trip']=commute_trips['start_station_name']+\" to \"+commute_trips['end_station_name']\n",
    "commute_trips"
   ]
  },
  {
   "cell_type": "code",
   "execution_count": 158,
   "metadata": {},
   "outputs": [
    {
     "data": {
      "image/png": "[encoded data removed]",
      "text/plain": [
       "<Figure size 432x288 with 1 Axes>"
      ]
     },
     "metadata": {
      "needs_background": "light"
     },
     "output_type": "display_data"
    }
   ],
   "source": [
    "firstgraph=commute_trips.plot.barh(x='trip', y='frequency',title=\"Top 5 Commuter Trips\",xlabel='Trip')"
   ]
  },
  {
   "cell_type": "markdown",
   "metadata": {},
   "source": [
    "Please note this graph represents Monday-Friday between commute hours of 6am-9am and 4pm-6pm. "
   ]
  },
  {
   "cell_type": "code",
   "execution_count": 36,
   "metadata": {},
   "outputs": [
    {
     "name": "stderr",
     "output_type": "stream",
     "text": [
      "Query complete after 0.00s: 100%|██████████| 1/1 [00:00<00:00, 863.20query/s] \n",
      "Downloading: 100%|██████████| 1/1 [00:01<00:00,  1.42s/rows]\n"
     ]
    },
    {
     "data": {
      "text/html": [
       "<div>\n",
       "<style scoped>\n",
       "    .dataframe tbody tr th:only-of-type {\n",
       "        vertical-align: middle;\n",
       "    }\n",
       "\n",
       "    .dataframe tbody tr th {\n",
       "        vertical-align: top;\n",
       "    }\n",
       "\n",
       "    .dataframe thead th {\n",
       "        text-align: right;\n",
       "    }\n",
       "</style>\n",
       "<table border=\"1\" class=\"dataframe\">\n",
       "  <thead>\n",
       "    <tr style=\"text-align: right;\">\n",
       "      <th></th>\n",
       "      <th>f0_</th>\n",
       "    </tr>\n",
       "  </thead>\n",
       "  <tbody>\n",
       "    <tr>\n",
       "      <th>0</th>\n",
       "      <td>983648</td>\n",
       "    </tr>\n",
       "  </tbody>\n",
       "</table>\n",
       "</div>"
      ],
      "text/plain": [
       "      f0_\n",
       "0  983648"
      ]
     },
     "execution_count": 36,
     "metadata": {},
     "output_type": "execute_result"
    }
   ],
   "source": [
    "%%bigquery\n",
    "SELECT count( * ) FROM bigquery-public-data.san_francisco.bikeshare_trips"
   ]
  },
  {
   "cell_type": "code",
   "execution_count": 37,
   "metadata": {},
   "outputs": [
    {
     "name": "stderr",
     "output_type": "stream",
     "text": [
      "Query complete after 0.00s: 100%|██████████| 2/2 [00:00<00:00, 459.22query/s]                         \n",
      "Downloading: 100%|██████████| 1/1 [00:01<00:00,  1.40s/rows]\n"
     ]
    },
    {
     "data": {
      "text/html": [
       "<div>\n",
       "<style scoped>\n",
       "    .dataframe tbody tr th:only-of-type {\n",
       "        vertical-align: middle;\n",
       "    }\n",
       "\n",
       "    .dataframe tbody tr th {\n",
       "        vertical-align: top;\n",
       "    }\n",
       "\n",
       "    .dataframe thead th {\n",
       "        text-align: right;\n",
       "    }\n",
       "</style>\n",
       "<table border=\"1\" class=\"dataframe\">\n",
       "  <thead>\n",
       "    <tr style=\"text-align: right;\">\n",
       "      <th></th>\n",
       "      <th>f0_</th>\n",
       "    </tr>\n",
       "  </thead>\n",
       "  <tbody>\n",
       "    <tr>\n",
       "      <th>0</th>\n",
       "      <td>846839</td>\n",
       "    </tr>\n",
       "  </tbody>\n",
       "</table>\n",
       "</div>"
      ],
      "text/plain": [
       "      f0_\n",
       "0  846839"
      ]
     },
     "execution_count": 37,
     "metadata": {},
     "output_type": "execute_result"
    }
   ],
   "source": [
    "%%bigquery\n",
    "SELECT count(*) FROM bigquery-public-data.san_francisco.bikeshare_trips WHERE subscriber_type='Subscriber'"
   ]
  },
  {
   "cell_type": "code",
   "execution_count": 38,
   "metadata": {},
   "outputs": [
    {
     "name": "stderr",
     "output_type": "stream",
     "text": [
      "Query complete after 0.00s: 100%|██████████| 2/2 [00:00<00:00, 606.20query/s]                         \n",
      "Downloading: 100%|██████████| 1/1 [00:01<00:00,  1.32s/rows]\n"
     ]
    },
    {
     "data": {
      "text/html": [
       "<div>\n",
       "<style scoped>\n",
       "    .dataframe tbody tr th:only-of-type {\n",
       "        vertical-align: middle;\n",
       "    }\n",
       "\n",
       "    .dataframe tbody tr th {\n",
       "        vertical-align: top;\n",
       "    }\n",
       "\n",
       "    .dataframe thead th {\n",
       "        text-align: right;\n",
       "    }\n",
       "</style>\n",
       "<table border=\"1\" class=\"dataframe\">\n",
       "  <thead>\n",
       "    <tr style=\"text-align: right;\">\n",
       "      <th></th>\n",
       "      <th>f0_</th>\n",
       "    </tr>\n",
       "  </thead>\n",
       "  <tbody>\n",
       "    <tr>\n",
       "      <th>0</th>\n",
       "      <td>136809</td>\n",
       "    </tr>\n",
       "  </tbody>\n",
       "</table>\n",
       "</div>"
      ],
      "text/plain": [
       "      f0_\n",
       "0  136809"
      ]
     },
     "execution_count": 38,
     "metadata": {},
     "output_type": "execute_result"
    }
   ],
   "source": [
    "%%bigquery\n",
    "SELECT count(*) FROM bigquery-public-data.san_francisco.bikeshare_trips WHERE subscriber_type='Customer'"
   ]
  },
  {
   "cell_type": "markdown",
   "metadata": {},
   "source": [
    "## Recommendations"
   ]
  },
  {
   "cell_type": "markdown",
   "metadata": {},
   "source": [
    "As it currently stands, a vast majority of Bike Share's business comes from their subscribers. In total, there are 983,648 rides in the dataset. Subscribers accounted for 846,839 riders in the dataset, amounting to 86% of the total rides. Meanwhile, Customers are a smaller faction of the riders, accounting for only 136,809 rides and about 14% of the total rides. "
   ]
  },
  {
   "cell_type": "markdown",
   "metadata": {},
   "source": [
    "For recommendations, this leaves one major avenue for expansion. While subscribers are a strong avenue for increasing business, customers represent a major oppurtunity for expansion. Pre coronavirus, in 2019, San Francisco forcasted 26.5 million visitors to the city, generating a total of 10.3 billion dollars of revenue (1). This means that by expanding business amoung non-subscribers, or customers, Lyft can capitalize on a robust tourism market. Below, we will explore how Lyft can go about doing this by taking information from the dataset available to us. \n",
    "\n",
    "\n",
    "*Refrences:*\n",
    "*https://www.sftravel.com/article/san-francisco-travel-reports-record-breaking-tourism-levels-2018-gives-projections-2019#:~:text=For%202019%2C%20San%20Francisco%20Travel,related%20to%20meetings%20and%20conventions.*\n"
   ]
  },
  {
   "cell_type": "markdown",
   "metadata": {},
   "source": [
    "**Overall, recommendations will be made on two fronts, the first considering commute patterns, and the second considering customers and tourism.**"
   ]
  },
  {
   "cell_type": "markdown",
   "metadata": {},
   "source": [
    "## Recommendation 1: Analyzing Most Common Start and End Stations During Commuting Hours"
   ]
  },
  {
   "cell_type": "code",
   "execution_count": 97,
   "metadata": {},
   "outputs": [
    {
     "name": "stderr",
     "output_type": "stream",
     "text": [
      "Query complete after 0.00s: 100%|██████████| 3/3 [00:00<00:00, 658.96query/s]                         \n",
      "Downloading: 100%|██████████| 5/5 [00:01<00:00,  3.79rows/s]\n"
     ]
    }
   ],
   "source": [
    "%%bigquery my_pandaframe\n",
    "\n",
    "SELECT start_station_name,\n",
    "COUNT(*) as total_rides\n",
    "FROM `bigquery-public-data.san_francisco.bikeshare_trips`\n",
    "WHERE EXTRACT(DAYOFWEEK FROM start_date) NOT IN (1, 7) and (\n",
    "(EXTRACT(HOUR FROM start_date) >= 7 and EXTRACT(HOUR FROM start_date) <= 9) \n",
    "OR (EXTRACT(HOUR FROM start_date) >= 16 and EXTRACT(HOUR FROM start_date) <= 18))\n",
    "GROUP BY start_station_name\n",
    "ORDER BY total_rides DESC\n",
    "LIMIT 5"
   ]
  },
  {
   "cell_type": "code",
   "execution_count": 98,
   "metadata": {},
   "outputs": [
    {
     "name": "stderr",
     "output_type": "stream",
     "text": [
      "Query complete after 0.00s: 100%|██████████| 1/1 [00:00<00:00, 745.39query/s] \n",
      "Downloading: 100%|██████████| 5/5 [00:01<00:00,  4.13rows/s]\n"
     ]
    }
   ],
   "source": [
    "%%bigquery my_pandaframe2\n",
    "\n",
    "SELECT end_station_name,\n",
    "COUNT(*) as total_rides\n",
    "FROM `bigquery-public-data.san_francisco.bikeshare_trips`\n",
    "WHERE EXTRACT(DAYOFWEEK FROM start_date) NOT IN (1, 7) and (\n",
    "(EXTRACT(HOUR FROM start_date) >= 7 and EXTRACT(HOUR FROM start_date) <= 9) \n",
    "OR (EXTRACT(HOUR FROM start_date) >= 16 and EXTRACT(HOUR FROM start_date) <= 18))\n",
    "GROUP BY end_station_name\n",
    "ORDER BY total_rides DESC\n",
    "LIMIT 5"
   ]
  },
  {
   "cell_type": "code",
   "execution_count": 99,
   "metadata": {},
   "outputs": [
    {
     "data": {
      "text/html": [
       "<div>\n",
       "<style scoped>\n",
       "    .dataframe tbody tr th:only-of-type {\n",
       "        vertical-align: middle;\n",
       "    }\n",
       "\n",
       "    .dataframe tbody tr th {\n",
       "        vertical-align: top;\n",
       "    }\n",
       "\n",
       "    .dataframe thead th {\n",
       "        text-align: right;\n",
       "    }\n",
       "</style>\n",
       "<table border=\"1\" class=\"dataframe\">\n",
       "  <thead>\n",
       "    <tr style=\"text-align: right;\">\n",
       "      <th></th>\n",
       "      <th>start_station_name</th>\n",
       "      <th>total_rides</th>\n",
       "    </tr>\n",
       "  </thead>\n",
       "  <tbody>\n",
       "    <tr>\n",
       "      <th>0</th>\n",
       "      <td>San Francisco Caltrain (Townsend at 4th)</td>\n",
       "      <td>52441</td>\n",
       "    </tr>\n",
       "    <tr>\n",
       "      <th>1</th>\n",
       "      <td>San Francisco Caltrain 2 (330 Townsend)</td>\n",
       "      <td>40264</td>\n",
       "    </tr>\n",
       "    <tr>\n",
       "      <th>2</th>\n",
       "      <td>Temporary Transbay Terminal (Howard at Beale)</td>\n",
       "      <td>28880</td>\n",
       "    </tr>\n",
       "    <tr>\n",
       "      <th>3</th>\n",
       "      <td>Harry Bridges Plaza (Ferry Building)</td>\n",
       "      <td>27298</td>\n",
       "    </tr>\n",
       "    <tr>\n",
       "      <th>4</th>\n",
       "      <td>Steuart at Market</td>\n",
       "      <td>25313</td>\n",
       "    </tr>\n",
       "  </tbody>\n",
       "</table>\n",
       "</div>"
      ],
      "text/plain": [
       "                              start_station_name  total_rides\n",
       "0       San Francisco Caltrain (Townsend at 4th)        52441\n",
       "1        San Francisco Caltrain 2 (330 Townsend)        40264\n",
       "2  Temporary Transbay Terminal (Howard at Beale)        28880\n",
       "3           Harry Bridges Plaza (Ferry Building)        27298\n",
       "4                              Steuart at Market        25313"
      ]
     },
     "execution_count": 99,
     "metadata": {},
     "output_type": "execute_result"
    }
   ],
   "source": [
    "(my_pandaframe)"
   ]
  },
  {
   "cell_type": "code",
   "execution_count": 100,
   "metadata": {},
   "outputs": [
    {
     "data": {
      "text/html": [
       "<div>\n",
       "<style scoped>\n",
       "    .dataframe tbody tr th:only-of-type {\n",
       "        vertical-align: middle;\n",
       "    }\n",
       "\n",
       "    .dataframe tbody tr th {\n",
       "        vertical-align: top;\n",
       "    }\n",
       "\n",
       "    .dataframe thead th {\n",
       "        text-align: right;\n",
       "    }\n",
       "</style>\n",
       "<table border=\"1\" class=\"dataframe\">\n",
       "  <thead>\n",
       "    <tr style=\"text-align: right;\">\n",
       "      <th></th>\n",
       "      <th>end_station_name</th>\n",
       "      <th>total_rides</th>\n",
       "    </tr>\n",
       "  </thead>\n",
       "  <tbody>\n",
       "    <tr>\n",
       "      <th>0</th>\n",
       "      <td>San Francisco Caltrain (Townsend at 4th)</td>\n",
       "      <td>65411</td>\n",
       "    </tr>\n",
       "    <tr>\n",
       "      <th>1</th>\n",
       "      <td>San Francisco Caltrain 2 (330 Townsend)</td>\n",
       "      <td>42095</td>\n",
       "    </tr>\n",
       "    <tr>\n",
       "      <th>2</th>\n",
       "      <td>Harry Bridges Plaza (Ferry Building)</td>\n",
       "      <td>26851</td>\n",
       "    </tr>\n",
       "    <tr>\n",
       "      <th>3</th>\n",
       "      <td>2nd at Townsend</td>\n",
       "      <td>26824</td>\n",
       "    </tr>\n",
       "    <tr>\n",
       "      <th>4</th>\n",
       "      <td>Steuart at Market</td>\n",
       "      <td>25521</td>\n",
       "    </tr>\n",
       "  </tbody>\n",
       "</table>\n",
       "</div>"
      ],
      "text/plain": [
       "                           end_station_name  total_rides\n",
       "0  San Francisco Caltrain (Townsend at 4th)        65411\n",
       "1   San Francisco Caltrain 2 (330 Townsend)        42095\n",
       "2      Harry Bridges Plaza (Ferry Building)        26851\n",
       "3                           2nd at Townsend        26824\n",
       "4                         Steuart at Market        25521"
      ]
     },
     "execution_count": 100,
     "metadata": {},
     "output_type": "execute_result"
    }
   ],
   "source": [
    "(my_pandaframe2)"
   ]
  },
  {
   "cell_type": "markdown",
   "metadata": {},
   "source": [
    "Additionally, here are some visualizations to show these datapoints in more detail. "
   ]
  },
  {
   "cell_type": "code",
   "execution_count": 112,
   "metadata": {},
   "outputs": [
    {
     "data": {
      "image/png": "[encoded data removed]",
      "text/plain": [
       "<Figure size 432x288 with 1 Axes>"
      ]
     },
     "metadata": {
      "needs_background": "light"
     },
     "output_type": "display_data"
    }
   ],
   "source": [
    "ax = my_pandaframe.plot.barh(x='start_station_name', y='total_rides',title=\"Top 5 Most Popular Start Stations\",xlabel='Station Name')"
   ]
  },
  {
   "cell_type": "code",
   "execution_count": 108,
   "metadata": {},
   "outputs": [
    {
     "data": {
      "image/png": "[encoded data removed]",
      "text/plain": [
       "<Figure size 432x288 with 1 Axes>"
      ]
     },
     "metadata": {
      "needs_background": "light"
     },
     "output_type": "display_data"
    }
   ],
   "source": [
    "ax2 = my_pandaframe2.plot.barh(x='end_station_name', y='total_rides',title=\"Top 5 Most Popular End Stations\",xlabel='Station Name')"
   ]
  },
  {
   "cell_type": "markdown",
   "metadata": {},
   "source": [
    "As we can see from the above visualizations, the most popular start and end stations during commute times have a connection to other forms of transportation. Both the most popular start stations and end stations share the following locations:\n",
    "\n",
    "San Francisco Caltrain (Townsend at 4th), San Francisco Caltrain 2 (330 Townsend), and Harry Bridges Plaza (Ferry Building). \n",
    "\n",
    "All three of these have a strong connection to other forms of public transportation. Caltrain is also an important method of transportation for many workers in San Francisco, and The Ferry Building is in very close proximity to the Embarcadero Bart Station, another important form of public transportation for many SF workers. This is inline with data from outside sources, which shows that 247,465 people are inbound commuters to San Francisco (1). Additionally, many commuters who use Caltrain have Caltrain subscriptions, which is a form of ticket for Caltrain (2). \n",
    "\n",
    "**Final Recommendation:\n",
    "Lyft should capitalize on riders who ride Caltrain or Bart in addition to their bikes. As seen from start and end stations, the most popular stations during commute hours Monday through Friday are those in close proximity to Caltrain and Caltrain 2, in addition to the Ferry Building (which is near Embarcadero Bart Station). To capitalize on this potential business, Lyft should consider integrating their riding more closely with Caltrain and Bart riders. This can happen by offering discounts to Caltrain subscribers for a Subscription to bike sharing. Additionally, a one time ticket from Caltrain or Bart from the same day can potentially mean a one time discount to bike sharing customers (who are not subscribers) for the day. There are several promotions/discounts that we can run in relation to Caltrain and Bart riders to find new business among commuters who are not already using bikes.**\n",
    "\n",
    "*Refrences:*\n",
    "\n",
    "*(1) https://oewd.org/sf-fast-facts*\n",
    "\n",
    "*(2) https://www.caltrain.com/Fares/tickettypes.html*"
   ]
  },
  {
   "cell_type": "markdown",
   "metadata": {},
   "source": [
    "## Recommendation 2: Increasing Ridership Among Customers Outside of Commuting"
   ]
  },
  {
   "cell_type": "markdown",
   "metadata": {},
   "source": [
    "Outside of just commuting, which is covered in option 1, San Francsico is a popular tourist spot as well, which can present an oppurtunity to boost business. Below we will analyze some data before making a final recommendation. "
   ]
  },
  {
   "cell_type": "code",
   "execution_count": 144,
   "metadata": {},
   "outputs": [
    {
     "name": "stderr",
     "output_type": "stream",
     "text": [
      "Query complete after 0.00s: 100%|██████████| 1/1 [00:00<00:00, 416.80query/s] \n",
      "Downloading: 100%|██████████| 7/7 [00:01<00:00,  5.63rows/s]\n"
     ]
    }
   ],
   "source": [
    "%%bigquery my_pandaframe3\n",
    "\n",
    "SELECT EXTRACT(DAYOFWEEK FROM start_date) as day,\n",
    "COUNT(*) as total_rides\n",
    "FROM `bigquery-public-data.san_francisco.bikeshare_trips`\n",
    "GROUP BY day\n",
    "ORDER BY day ASC"
   ]
  },
  {
   "cell_type": "code",
   "execution_count": 146,
   "metadata": {},
   "outputs": [
    {
     "data": {
      "text/html": [
       "<div>\n",
       "<style scoped>\n",
       "    .dataframe tbody tr th:only-of-type {\n",
       "        vertical-align: middle;\n",
       "    }\n",
       "\n",
       "    .dataframe tbody tr th {\n",
       "        vertical-align: top;\n",
       "    }\n",
       "\n",
       "    .dataframe thead th {\n",
       "        text-align: right;\n",
       "    }\n",
       "</style>\n",
       "<table border=\"1\" class=\"dataframe\">\n",
       "  <thead>\n",
       "    <tr style=\"text-align: right;\">\n",
       "      <th></th>\n",
       "      <th>day</th>\n",
       "      <th>total_rides</th>\n",
       "    </tr>\n",
       "  </thead>\n",
       "  <tbody>\n",
       "    <tr>\n",
       "      <th>1</th>\n",
       "      <td>Mon</td>\n",
       "      <td>169937</td>\n",
       "    </tr>\n",
       "    <tr>\n",
       "      <th>2</th>\n",
       "      <td>Tues</td>\n",
       "      <td>184405</td>\n",
       "    </tr>\n",
       "    <tr>\n",
       "      <th>3</th>\n",
       "      <td>Wed</td>\n",
       "      <td>180767</td>\n",
       "    </tr>\n",
       "    <tr>\n",
       "      <th>4</th>\n",
       "      <td>Thur</td>\n",
       "      <td>176908</td>\n",
       "    </tr>\n",
       "    <tr>\n",
       "      <th>5</th>\n",
       "      <td>Fri</td>\n",
       "      <td>159977</td>\n",
       "    </tr>\n",
       "    <tr>\n",
       "      <th>6</th>\n",
       "      <td>Sat</td>\n",
       "      <td>60279</td>\n",
       "    </tr>\n",
       "    <tr>\n",
       "      <th>0</th>\n",
       "      <td>Sun</td>\n",
       "      <td>51375</td>\n",
       "    </tr>\n",
       "  </tbody>\n",
       "</table>\n",
       "</div>"
      ],
      "text/plain": [
       "    day  total_rides\n",
       "1   Mon       169937\n",
       "2  Tues       184405\n",
       "3   Wed       180767\n",
       "4  Thur       176908\n",
       "5   Fri       159977\n",
       "6   Sat        60279\n",
       "0   Sun        51375"
      ]
     },
     "execution_count": 146,
     "metadata": {},
     "output_type": "execute_result"
    }
   ],
   "source": [
    "my_pandaframe3['day'] = my_pandaframe3['day'].astype(str)\n",
    "my_pandaframe3['day'] = my_pandaframe3['day'].replace('7', 'Sat')\n",
    "my_pandaframe3['day'] = my_pandaframe3['day'].replace('6', 'Fri')\n",
    "my_pandaframe3['day'] = my_pandaframe3['day'].replace('5', 'Thur')\n",
    "my_pandaframe3['day'] = my_pandaframe3['day'].replace('4', 'Wed')\n",
    "my_pandaframe3['day'] = my_pandaframe3['day'].replace('3', 'Tues')\n",
    "my_pandaframe3['day'] = my_pandaframe3['day'].replace('2', 'Mon')\n",
    "my_pandaframe3['day'] = my_pandaframe3['day'].replace('1', 'Sun')\n",
    "df3=my_pandaframe3.reindex([1,2,3,4,5,6,0])\n",
    "df3\n"
   ]
  },
  {
   "cell_type": "code",
   "execution_count": 147,
   "metadata": {},
   "outputs": [
    {
     "data": {
      "image/png": "[encoded data removed]",
      "text/plain": [
       "<Figure size 432x288 with 1 Axes>"
      ]
     },
     "metadata": {
      "needs_background": "light"
     },
     "output_type": "display_data"
    }
   ],
   "source": [
    "ax3= df3.plot.line(x='day', y='total_rides',title=\"Total Rides by Day of the Week\",xlabel='Day of Week',ylabel='Total Rides')"
   ]
  },
  {
   "cell_type": "markdown",
   "metadata": {},
   "source": [
    "to understand this graph, please understand the following:\n",
    "Day of the Week:\n",
    "1=Sunday\n",
    "2=Monday\n",
    "3=Tueday\n",
    "4=Wednesday\n",
    "5=Thursday\n",
    "6=Friday\n",
    "7=Saturday\n",
    "\n",
    "As we can see from the graph above, there is a sharp increase in ridership during the workweek, (Monday through Friday) and the weekend lags behind in total rides on Saturday and Sunday. In order to maximize business, there is a need to maximize the business on weekends. Despite the robust tourism, this graph seems to show that the weekends are not a major source of revenue. "
   ]
  },
  {
   "cell_type": "code",
   "execution_count": 160,
   "metadata": {},
   "outputs": [
    {
     "name": "stderr",
     "output_type": "stream",
     "text": [
      "Query complete after 0.00s: 100%|██████████| 3/3 [00:00<00:00, 757.92query/s]                         \n",
      "Downloading: 100%|██████████| 24/24 [00:01<00:00, 21.73rows/s]\n"
     ]
    }
   ],
   "source": [
    "%%bigquery my_pandaframe4\n",
    "\n",
    "SELECT EXTRACT(HOUR FROM start_date) as hours,\n",
    "COUNT(*) as total_rides\n",
    "FROM `bigquery-public-data.san_francisco.bikeshare_trips`\n",
    "WHERE EXTRACT(DAYOFWEEK FROM start_date) NOT IN (1, 7)\n",
    "GROUP BY hours\n",
    "ORDER BY hours ASC"
   ]
  },
  {
   "cell_type": "code",
   "execution_count": 161,
   "metadata": {},
   "outputs": [
    {
     "data": {
      "text/html": [
       "<div>\n",
       "<style scoped>\n",
       "    .dataframe tbody tr th:only-of-type {\n",
       "        vertical-align: middle;\n",
       "    }\n",
       "\n",
       "    .dataframe tbody tr th {\n",
       "        vertical-align: top;\n",
       "    }\n",
       "\n",
       "    .dataframe thead th {\n",
       "        text-align: right;\n",
       "    }\n",
       "</style>\n",
       "<table border=\"1\" class=\"dataframe\">\n",
       "  <thead>\n",
       "    <tr style=\"text-align: right;\">\n",
       "      <th></th>\n",
       "      <th>hours</th>\n",
       "      <th>total_rides</th>\n",
       "    </tr>\n",
       "  </thead>\n",
       "  <tbody>\n",
       "    <tr>\n",
       "      <th>0</th>\n",
       "      <td>0</td>\n",
       "      <td>1696</td>\n",
       "    </tr>\n",
       "    <tr>\n",
       "      <th>1</th>\n",
       "      <td>1</td>\n",
       "      <td>797</td>\n",
       "    </tr>\n",
       "    <tr>\n",
       "      <th>2</th>\n",
       "      <td>2</td>\n",
       "      <td>420</td>\n",
       "    </tr>\n",
       "    <tr>\n",
       "      <th>3</th>\n",
       "      <td>3</td>\n",
       "      <td>427</td>\n",
       "    </tr>\n",
       "    <tr>\n",
       "      <th>4</th>\n",
       "      <td>4</td>\n",
       "      <td>1273</td>\n",
       "    </tr>\n",
       "    <tr>\n",
       "      <th>5</th>\n",
       "      <td>5</td>\n",
       "      <td>4799</td>\n",
       "    </tr>\n",
       "    <tr>\n",
       "      <th>6</th>\n",
       "      <td>6</td>\n",
       "      <td>19830</td>\n",
       "    </tr>\n",
       "    <tr>\n",
       "      <th>7</th>\n",
       "      <td>7</td>\n",
       "      <td>65900</td>\n",
       "    </tr>\n",
       "    <tr>\n",
       "      <th>8</th>\n",
       "      <td>8</td>\n",
       "      <td>128999</td>\n",
       "    </tr>\n",
       "    <tr>\n",
       "      <th>9</th>\n",
       "      <td>9</td>\n",
       "      <td>90264</td>\n",
       "    </tr>\n",
       "    <tr>\n",
       "      <th>10</th>\n",
       "      <td>10</td>\n",
       "      <td>34888</td>\n",
       "    </tr>\n",
       "    <tr>\n",
       "      <th>11</th>\n",
       "      <td>11</td>\n",
       "      <td>30712</td>\n",
       "    </tr>\n",
       "    <tr>\n",
       "      <th>12</th>\n",
       "      <td>12</td>\n",
       "      <td>36382</td>\n",
       "    </tr>\n",
       "    <tr>\n",
       "      <th>13</th>\n",
       "      <td>13</td>\n",
       "      <td>33029</td>\n",
       "    </tr>\n",
       "    <tr>\n",
       "      <th>14</th>\n",
       "      <td>14</td>\n",
       "      <td>27590</td>\n",
       "    </tr>\n",
       "    <tr>\n",
       "      <th>15</th>\n",
       "      <td>15</td>\n",
       "      <td>37424</td>\n",
       "    </tr>\n",
       "    <tr>\n",
       "      <th>16</th>\n",
       "      <td>16</td>\n",
       "      <td>79000</td>\n",
       "    </tr>\n",
       "    <tr>\n",
       "      <th>17</th>\n",
       "      <td>17</td>\n",
       "      <td>118332</td>\n",
       "    </tr>\n",
       "    <tr>\n",
       "      <th>18</th>\n",
       "      <td>18</td>\n",
       "      <td>78188</td>\n",
       "    </tr>\n",
       "    <tr>\n",
       "      <th>19</th>\n",
       "      <td>19</td>\n",
       "      <td>36584</td>\n",
       "    </tr>\n",
       "    <tr>\n",
       "      <th>20</th>\n",
       "      <td>20</td>\n",
       "      <td>19492</td>\n",
       "    </tr>\n",
       "    <tr>\n",
       "      <th>21</th>\n",
       "      <td>21</td>\n",
       "      <td>12828</td>\n",
       "    </tr>\n",
       "    <tr>\n",
       "      <th>22</th>\n",
       "      <td>22</td>\n",
       "      <td>8343</td>\n",
       "    </tr>\n",
       "    <tr>\n",
       "      <th>23</th>\n",
       "      <td>23</td>\n",
       "      <td>4797</td>\n",
       "    </tr>\n",
       "  </tbody>\n",
       "</table>\n",
       "</div>"
      ],
      "text/plain": [
       "    hours  total_rides\n",
       "0       0         1696\n",
       "1       1          797\n",
       "2       2          420\n",
       "3       3          427\n",
       "4       4         1273\n",
       "5       5         4799\n",
       "6       6        19830\n",
       "7       7        65900\n",
       "8       8       128999\n",
       "9       9        90264\n",
       "10     10        34888\n",
       "11     11        30712\n",
       "12     12        36382\n",
       "13     13        33029\n",
       "14     14        27590\n",
       "15     15        37424\n",
       "16     16        79000\n",
       "17     17       118332\n",
       "18     18        78188\n",
       "19     19        36584\n",
       "20     20        19492\n",
       "21     21        12828\n",
       "22     22         8343\n",
       "23     23         4797"
      ]
     },
     "execution_count": 161,
     "metadata": {},
     "output_type": "execute_result"
    }
   ],
   "source": [
    "my_pandaframe4"
   ]
  },
  {
   "cell_type": "code",
   "execution_count": 162,
   "metadata": {},
   "outputs": [
    {
     "data": {
      "image/png": "[encoded data removed]",
      "text/plain": [
       "<Figure size 432x288 with 1 Axes>"
      ]
     },
     "metadata": {
      "needs_background": "light"
     },
     "output_type": "display_data"
    }
   ],
   "source": [
    "ax = my_pandaframe4.plot.line(x='hours', y='total_rides',title=\"Total Rides by Hour of Day, Monday-Friday\",xlabel='Hour of Day',ylabel='Total Rides')"
   ]
  },
  {
   "cell_type": "markdown",
   "metadata": {},
   "source": [
    "Above we can see a graph of between Monday and Friday, which shows total of rides by hour of the day,(0-24 hours). We can see a sharp increase in ridership during traditional commuter hours, both in the morning and afternoon. However, outside of that ridership is lower during non-commute hours Monday-Friday. This is also something we can address to maximize business. "
   ]
  },
  {
   "cell_type": "markdown",
   "metadata": {},
   "source": [
    "**FINAL RECOMMENDATIONS:**\n",
    "\n",
    "**As seen in Graph 1, there is a sharp decline in ridership on the weekends. In order to address this, we can integrate our rides more with the tourism and sightseeing on the city. Integrating the bike rentals with popular sights by offering discount can sway visitors to chose bikes as their transporation.**\n",
    "\n",
    "**Additionally, as seen by Graph 2, between Monday and Friday there is a sharp increase in ridership during commuting hours. However in between, and before and after commute hours, there is a sharp decline in ridership. To address this, we can offer a substantial discount to riders who are customers and not subscribers (only during non-commuter hours) in order to boost ridership during off hours.**"
   ]
  }
 ],
 "metadata": {
  "environment": {
   "name": "common-cpu.m78",
   "type": "gcloud",
   "uri": "gcr.io/deeplearning-platform-release/base-cpu:m78"
  },
  "kernelspec": {
   "display_name": "Python 3",
   "language": "python",
   "name": "python3"
  },
  "language_info": {
   "codemirror_mode": {
    "name": "ipython",
    "version": 3
   },
   "file_extension": ".py",
   "mimetype": "text/x-python",
   "name": "python",
   "nbconvert_exporter": "python",
   "pygments_lexer": "ipython3",
   "version": "3.8.8"
  }
 },
 "nbformat": 4,
 "nbformat_minor": 4
}
